{
 "cells": [
  {
   "cell_type": "code",
   "execution_count": 2,
   "metadata": {},
   "outputs": [],
   "source": [
    "import gym\n",
    "import numpy as np\n",
    "import matplotlib.pyplot as plt\n",
    "\n",
    "np.set_printoptions(suppress=True)"
   ]
  },
  {
   "cell_type": "code",
   "execution_count": 8,
   "metadata": {},
   "outputs": [
    {
     "data": {
      "image/png": "[encoded data removed]",
      "text/plain": [
       "<Figure size 720x360 with 1 Axes>"
      ]
     },
     "metadata": {
      "needs_background": "light"
     },
     "output_type": "display_data"
    }
   ],
   "source": [
    "class Agent:\n",
    "    \n",
    "    def __init__(self, n_states, n_actions, eps_init=.9, eps_min=0.001):\n",
    "        self.n_states = n_states\n",
    "        self.n_actions = n_actions\n",
    "        self.eps = eps_init\n",
    "        self.eps_min = eps_min\n",
    "        self.Q = np.zeros(shape=(n_states, n_actions))\n",
    "        \n",
    "    def act(self, state):\n",
    "        '''\n",
    "        Choose an action according to an epsilon-greedy policy with decaying epsilon. \n",
    "        Ties are broken uniformly at random.\n",
    "        '''\n",
    "        if np.random.random() < self.eps:\n",
    "            return np.random.randint(self.n_actions)\n",
    "        \n",
    "        # epsilon decay\n",
    "        if self.eps > self.eps_min:\n",
    "            self.eps *= 0.999\n",
    "            \n",
    "        # find all actions that maximize Q(s,a) (there may be more than one)\n",
    "        best_actions = np.argwhere(self.Q[state] == self.Q[state].max()).flatten()\n",
    "        # choose one of the best actions uniformly at random.\n",
    "        return np.random.choice(best_actions)\n",
    "\n",
    "def q_learning(env, n_episodes=1000, gamma=0.99, alpha=0.9):\n",
    "    \n",
    "    n_actions = env.action_space.n\n",
    "    n_states = env.observation_space.n\n",
    "    agent = Agent(n_states, n_actions)    \n",
    "    \n",
    "    episode_rewards = []\n",
    "\n",
    "    for i in range(n_episodes):\n",
    "        \n",
    "        state = env.reset()\n",
    "        done = False\n",
    "        \n",
    "        episode_reward = 0\n",
    "\n",
    "        while not done:\n",
    "            action = agent.act(state)\n",
    "            next_state, reward, done, info = env.step(action)\n",
    "            agent.Q[state, action] = (1-alpha)*agent.Q[state, action] + alpha*(reward + gamma*np.max(agent.Q[next_state]))\n",
    "            \n",
    "            state = next_state\n",
    "            \n",
    "            episode_reward += reward\n",
    "        \n",
    "        episode_rewards.append(episode_reward) # reward = reward from the final step of the episode\n",
    "    \n",
    "#         if i % 100 == 0:\n",
    "#             end = len(episode_rewards)\n",
    "#             start = max(end-100, 0)\n",
    "#             avg_reward = np.average(episode_rewards[start:end])\n",
    "#             print('episode: {} reward: {}'.format(i, avg_reward))\n",
    "    \n",
    "    \n",
    "#     print(agent.Q)\n",
    "#     print('number of successes: {}'.format(sum(episode_rewards)))\n",
    "    \n",
    "    plt.figure(figsize=(10,5))\n",
    "    plt.plot(episode_rewards, label='episode reward')\n",
    "    \n",
    "    avgs = [np.average([episode_rewards[:i]]) for i in range(1, len(episode_rewards))]\n",
    "    plt.plot(avgs, label='average reward')\n",
    "    \n",
    "    avgs_window = avgs[:100] + [np.average([episode_rewards[i:i+100]]) for i in range(0, len(episode_rewards)-100)]\n",
    "    plt.plot(avgs_window, label='average reward of past 100 episodes')\n",
    "    \n",
    "    plt.legend()\n",
    "    plt.show()\n",
    "    \n",
    "    \n",
    "    return agent.Q\n",
    "    \n",
    "    \n",
    "env = gym.make('FrozenLake8x8-v0', is_slippery=False)\n",
    "# env = gym.make('FrozenLake-v0', is_slippery=False)\n",
    "\n",
    "\n",
    "Q = q_learning(env, n_episodes=3000, gamma=0.99, alpha=0.8)  "
   ]
  },
  {
   "cell_type": "markdown",
   "metadata": {},
   "source": [
    "<!-- Interestingly, performance is not strongly related to gamma. Things collapse only when gamma is set to 0 exactly. gamma = 0.001 doesn't even cause issues. Same thing with alpha.\n",
    "\n",
    "I should also look at decay rate.\n",
    "\n",
    "jump is much more sudden for 8x8 case.\n",
    "\n",
    "alpha = 0.7 or 0.8 seems optimal. No obvious trend for gamma.\n",
    "\n",
    "check convergence rate.\n",
    "for 4x4 you can see that we do indeed converge to the optimal Q. Not for 8x8 though, since states are not all visited equally often. Need a lot more exploration. We don't need this though. We can find an optimal (or near optimal) policy without having a near-perfect Q table.  -->"
   ]
  },
  {
   "cell_type": "code",
   "execution_count": null,
   "metadata": {},
   "outputs": [],
   "source": []
  }
 ],
 "metadata": {
  "kernelspec": {
   "display_name": "Python 3",
   "language": "python",
   "name": "python3"
  },
  "language_info": {
   "codemirror_mode": {
    "name": "ipython",
    "version": 3
   },
   "file_extension": ".py",
   "mimetype": "text/x-python",
   "name": "python",
   "nbconvert_exporter": "python",
   "pygments_lexer": "ipython3",
   "version": "3.7.9"
  }
 },
 "nbformat": 4,
 "nbformat_minor": 4
}
